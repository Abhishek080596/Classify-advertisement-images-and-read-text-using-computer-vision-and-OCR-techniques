{
 "cells": [
  {
   "cell_type": "markdown",
   "id": "72a15330",
   "metadata": {},
   "source": [
    "# Classify ad image project"
   ]
  },
  {
   "cell_type": "markdown",
   "id": "bbc24f4e",
   "metadata": {},
   "source": [
    "### create harcascade file"
   ]
  },
  {
   "cell_type": "code",
   "execution_count": 27,
   "id": "bfed46b5-b064-401d-8aeb-f9617fc9aca7",
   "metadata": {},
   "outputs": [],
   "source": [
    "import warnings\n",
    "warnings.filterwarnings('ignore')"
   ]
  },
  {
   "cell_type": "code",
   "execution_count": null,
   "id": "94aa1085",
   "metadata": {},
   "outputs": [],
   "source": [
    "pwd"
   ]
  },
  {
   "cell_type": "code",
   "execution_count": null,
   "id": "f67da217",
   "metadata": {},
   "outputs": [],
   "source": [
    "cd .."
   ]
  },
  {
   "cell_type": "code",
   "execution_count": null,
   "id": "8d67040b",
   "metadata": {},
   "outputs": [],
   "source": [
    "!pip install simple_image_download"
   ]
  },
  {
   "cell_type": "code",
   "execution_count": null,
   "id": "451651d5",
   "metadata": {},
   "outputs": [],
   "source": [
    "import simple_image_download.simple_image_download as simp"
   ]
  },
  {
   "cell_type": "code",
   "execution_count": null,
   "id": "aacc0f2d",
   "metadata": {},
   "outputs": [],
   "source": [
    "my_downloader = simp.Downloader()\n",
    "my_downloader.extensions = '.jpg'\n",
    "\n",
    "\n",
    "my_downloader.download('poster',limit=20, verbose=True)  #enter the keyword like plants, cats, etc"
   ]
  },
  {
   "cell_type": "code",
   "execution_count": null,
   "id": "6f4103d6",
   "metadata": {},
   "outputs": [],
   "source": [
    "#to remove a file with wrong extension \n",
    "'''import os\n",
    "\n",
    "for file in os.listdir('path_to_dataset'):\n",
    "    if file.endswith('.png'): #can use any extension here\n",
    "        os.remove(os.path.join('path_to_dataset', file))'''"
   ]
  },
  {
   "cell_type": "markdown",
   "id": "1f5a87cc",
   "metadata": {},
   "source": [
    "## remove duplicate images"
   ]
  },
  {
   "cell_type": "code",
   "execution_count": null,
   "id": "482b42c6",
   "metadata": {},
   "outputs": [],
   "source": [
    "import hashlib, os\n",
    "import matplotlib.pyplot as plt\n",
    "%matplotlib inline\n",
    "import numpy as np"
   ]
  },
  {
   "cell_type": "code",
   "execution_count": null,
   "id": "e11f41e9",
   "metadata": {},
   "outputs": [],
   "source": [
    "from hashlib import md5   #takes image as input and creates unique output(compressed fingerprint)"
   ]
  },
  {
   "cell_type": "code",
   "execution_count": null,
   "id": "c633e972",
   "metadata": {},
   "outputs": [],
   "source": [
    "pwd"
   ]
  },
  {
   "cell_type": "code",
   "execution_count": null,
   "id": "54d95cf1",
   "metadata": {},
   "outputs": [],
   "source": [
    "cd C:\\\\Users\\\\HP-P203TX\\\\Downloads\\\\DL & NLP\\\\Advance AI\\\\rnn_onwards\\\\ComputerVision\\\\advertising_images\\\\n"
   ]
  },
  {
   "cell_type": "code",
   "execution_count": null,
   "id": "7a0d6466",
   "metadata": {},
   "outputs": [],
   "source": [
    "files_list = os.listdir()\n",
    "print(len(files_list))\n",
    "print(files_list[:10])"
   ]
  },
  {
   "cell_type": "code",
   "execution_count": null,
   "id": "dcd62c16",
   "metadata": {},
   "outputs": [],
   "source": [
    "duplicates = []\n",
    "hash_keys = {}\n",
    "\n",
    "for index, filename in enumerate(os.listdir('.')):        #numbers every file\n",
    "    with open(filename,'rb') as f:                        #opens the file in binary format for reading\n",
    "        filehash = hashlib.md5(f.read()).hexdigest()      #hexdigest gives output to input image, breaks down image to hash\n",
    "        #print(filehash)\n",
    "    if filehash not in hash_keys:\n",
    "        hash_keys[filehash] = filename\n",
    "    else:\n",
    "        duplicates.append((filename,hash_keys[filehash]))    #gives duplicate hash and already stored hash from hash_keys dictionary"
   ]
  },
  {
   "cell_type": "code",
   "execution_count": null,
   "id": "ca97f354",
   "metadata": {},
   "outputs": [],
   "source": [
    "len(duplicates)"
   ]
  },
  {
   "cell_type": "code",
   "execution_count": null,
   "id": "414a7208",
   "metadata": {},
   "outputs": [],
   "source": [
    "duplicates[0:10]"
   ]
  },
  {
   "cell_type": "code",
   "execution_count": null,
   "id": "9af40467",
   "metadata": {},
   "outputs": [],
   "source": [
    "#to view duplicate images\n",
    "#for file_indexes in duplicates[:30]:\n",
    "#    try:\n",
    "#        plt.subplot(121)\n",
    "#        pic1 = Image.open(file_indexes[0])\n",
    "#        pic1\n",
    "#        \n",
    "#        plt.subplot(122)\n",
    "#        pic2 = Image.open(file_indexes[1])\n",
    "#        pic2\n",
    "#    except OSError as e:\n",
    "#        continue"
   ]
  },
  {
   "cell_type": "markdown",
   "id": "3bcbfd3e",
   "metadata": {},
   "source": [
    "### remove duplicate images from folder"
   ]
  },
  {
   "cell_type": "code",
   "execution_count": null,
   "id": "39bbbcd6",
   "metadata": {},
   "outputs": [],
   "source": [
    "for file in duplicates:\n",
    "    os.remove(file[0])"
   ]
  },
  {
   "cell_type": "markdown",
   "id": "d3f05efa",
   "metadata": {},
   "source": [
    "## model building"
   ]
  },
  {
   "cell_type": "code",
   "execution_count": 1,
   "id": "d65b086b",
   "metadata": {},
   "outputs": [],
   "source": [
    "import cv2"
   ]
  },
  {
   "cell_type": "code",
   "execution_count": 2,
   "id": "9b86b40f",
   "metadata": {},
   "outputs": [
    {
     "data": {
      "text/plain": [
       "'C:\\\\Users\\\\HP-P203TX\\\\Downloads\\\\DL & NLP\\\\Advance AI\\\\rnn_onwards\\\\ComputerVision'"
      ]
     },
     "execution_count": 2,
     "metadata": {},
     "output_type": "execute_result"
    }
   ],
   "source": [
    "pwd"
   ]
  },
  {
   "cell_type": "code",
   "execution_count": 3,
   "id": "da02d52c",
   "metadata": {},
   "outputs": [
    {
     "name": "stdout",
     "output_type": "stream",
     "text": [
      "C:\\Users\\HP-P203TX\\Downloads\\DL & NLP\\Advance AI\\rnn_onwards\\ComputerVision\\images\n"
     ]
    }
   ],
   "source": [
    "cd C:\\\\Users\\\\HP-P203TX\\\\Downloads\\\\DL & NLP\\\\Advance AI\\\\rnn_onwards\\\\ComputerVision\\\\images"
   ]
  },
  {
   "cell_type": "code",
   "execution_count": 28,
   "id": "8c1446a7",
   "metadata": {},
   "outputs": [
    {
     "name": "stdout",
     "output_type": "stream",
     "text": [
      "this is advertisement image\n"
     ]
    }
   ],
   "source": [
    "ad_classifier = cv2.CascadeClassifier('cascade_ad4.xml')\n",
    "\n",
    "image = cv2.imread('test6.jpg')\n",
    "\n",
    "image = cv2.GaussianBlur(image, (3,3),0)\n",
    "\n",
    "#image = cv2.fastNlMeansDenoisingColored(image,None,5,5,7) \n",
    "\n",
    "\n",
    "cv2.imshow('modified image',image)\n",
    "cv2.waitKey()\n",
    "\n",
    "ad = ad_classifier.detectMultiScale(image,1.3,5)\n",
    "\n",
    "if ad is ():  \n",
    "    print('no ad found')\n",
    "else:\n",
    "    print('this is advertisement image')\n",
    "    for (x,y,w,h) in ad:\n",
    "       cv2.rectangle(image, (x,y), (x+w, y+h),(125,125,255),2)\n",
    "       cv2.imshow('Ad detection',image)\n",
    "       cv2.waitKey()\n",
    "    \n",
    "cv2.destroyAllWindows() "
   ]
  },
  {
   "cell_type": "markdown",
   "id": "d78f4428",
   "metadata": {},
   "source": [
    "### read text"
   ]
  },
  {
   "cell_type": "code",
   "execution_count": null,
   "id": "7ed234d6",
   "metadata": {},
   "outputs": [],
   "source": [
    "'''\n",
    "from anaconda cmd -> created new env easyocr with updated python and then install easyocr \n",
    "below commands used:\n",
    "\n",
    "conda create -n easyocr python=3.8\n",
    "conda activate easyocr\n",
    "\n",
    "conda install pytorch torchvision torchaudio cudatoolkit=10.2 -c pytorch\n",
    "\n",
    "pip install easyocr\n",
    "'''"
   ]
  },
  {
   "cell_type": "code",
   "execution_count": 5,
   "id": "b69e9cb5",
   "metadata": {},
   "outputs": [],
   "source": [
    "#import pytesseract #works best on documents type dataset\n",
    "import easyocr , cv2\n",
    "import numpy as np"
   ]
  },
  {
   "cell_type": "code",
   "execution_count": 6,
   "id": "d679a08b-67f2-4028-acf7-8a0f679a25cf",
   "metadata": {},
   "outputs": [],
   "source": [
    "from easyocr import Reader"
   ]
  },
  {
   "cell_type": "code",
   "execution_count": 16,
   "id": "65a0e3f9",
   "metadata": {},
   "outputs": [
    {
     "name": "stderr",
     "output_type": "stream",
     "text": [
      "Using CPU. Note: This module is much faster with a GPU.\n"
     ]
    }
   ],
   "source": [
    "image = cv2.imread('1.jpg')\n",
    "\n",
    "#instance text detector\n",
    "reader = easyocr.Reader(['en'],gpu=False)   #set lang to english\n",
    "\n",
    "#detect text on image\n",
    "text = reader.readtext(image)\n",
    "\n",
    "#print(text)\n",
    "for t in text:\n",
    "    bbox,text,score = t\n",
    "\n",
    "    cv2.rectangle(image, bbox[0], bbox[2],(0,255,0),2)\n",
    "    cv2.putText(image,text,bbox[0],cv2.FONT_HERSHEY_COMPLEX,2,(100,170,0),3)\n",
    "\n",
    "cv2.cvtColor(image,cv2.COLOR_BGR2RGB)\n",
    "cv2.imshow('original',image)\n",
    "cv2.waitKey()\n",
    "cv2.destroyAllWindows()"
   ]
  },
  {
   "cell_type": "code",
   "execution_count": null,
   "id": "81f173d7-6462-4156-84bf-247c43dcaf1a",
   "metadata": {},
   "outputs": [],
   "source": []
  }
 ],
 "metadata": {
  "kernelspec": {
   "display_name": "Python 3 (ipykernel)",
   "language": "python",
   "name": "python3"
  },
  "language_info": {
   "codemirror_mode": {
    "name": "ipython",
    "version": 3
   },
   "file_extension": ".py",
   "mimetype": "text/x-python",
   "name": "python",
   "nbconvert_exporter": "python",
   "pygments_lexer": "ipython3",
   "version": "3.8.19"
  }
 },
 "nbformat": 4,
 "nbformat_minor": 5
}
